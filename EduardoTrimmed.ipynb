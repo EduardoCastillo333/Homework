{
 "cells": [
  {
   "cell_type": "code",
   "execution_count": 3,
   "metadata": {},
   "outputs": [
    {
     "name": "stdout",
     "output_type": "stream",
     "text": [
      "Trimmed Mean by Cepeda Castillo Juan Eduardo\n",
      "Write the porcent that you want to use in the process\n",
      "0.10\n",
      "Introduce the value to x 118.04\n",
      "Introduce the value to y 118.71\n",
      "Introduce the value to x 218.92\n",
      "Introduce the value to y 219.25\n",
      "If you want to finish the programm, please only write 0\n",
      "Introduce the value to x 319.29\n",
      "Introduce the value of y 319.44\n",
      "If you want to finish the programm, please only write 0\n",
      "Introduce the value to x 419.77\n",
      "Introduce the value of y 420.17\n",
      "If you want to finish the programm, please only write 0\n",
      "Introduce the value to x 520.33\n",
      "Introduce the value of y 520.50\n",
      "If you want to finish the programm, please only write 0\n",
      "Introduce the value to x 620.72\n",
      "Introduce the value of y 621.12\n",
      "If you want to finish the programm, please only write 0\n",
      "Introduce the value to x 721.41\n",
      "Introduce the value of y 721.77\n",
      "If you want to finish the programm, please only write 0\n",
      "Introduce the value to x 821.81\n",
      "Introduce the value of y 822.11\n",
      "If you want to finish the programm, please only write 0\n",
      "Introduce the value to x 922.43\n",
      "Introduce the value of y 922.85\n",
      "If you want to finish the programm, please only write 0\n",
      "Introduce the value to x 1023\n",
      "Introduce the value of y 1023.71\n",
      "If you want to finish the programm, please only write 0\n",
      "Introduce the value to x 110\n",
      "415.35\n",
      "20.7675\n"
     ]
    }
   ],
   "source": [
    "print(\"Trimmed Mean by Cepeda Castillo Juan Eduardo, Alvares Peres Javier Alejandro, Escobedo Ramires Juan Carlos de Jesus\")\n",
    "n=1\n",
    "c=0\n",
    "datos=0\n",
    "todax=0\n",
    "today=0\n",
    "listax=[]\n",
    "listay=[]\n",
    "print(\"Write the porcent that you want to use in the process,but be very carefull, if you want to use the 10%, you need to put the number like this; 0.10\")\n",
    "porcent=float(input())\n",
    "for D in range(0,2):\n",
    "    x=float(input(f\"Introduce the value to x {n}\"))\n",
    "    listax.append(x)\n",
    "    y=float(input(f\"Introduce the value to y {n}\"))\n",
    "    listay.append(y)\n",
    "    n+=1\n",
    "    datos+=2\n",
    "    todax+=x\n",
    "    today+=y\n",
    "    \n",
    "while c<1:\n",
    "    print(\"If you want to finish the programm, please only write 0\")\n",
    "    x=float(input(f\"Introduce the value to x {n}\"))\n",
    "    listax.append(x)\n",
    "    \n",
    "    if x!=0:\n",
    "        y=float(input(f\"Introduce the value of y {n}\"))\n",
    "        listay.append(y)\n",
    "        n+=1\n",
    "        datos+=2\n",
    "        todax+=x\n",
    "        today+=y\n",
    "    else:c+=1\n",
    "    \n",
    "sumasl=todax+today\n",
    "print(sumasl)\n",
    "porc= sumasl*porcent\n",
    "resta=sumasl-porc\n",
    "trimmed=resta/(datos-2)\n",
    "print(trimmed)"
   ]
  },
  {
   "cell_type": "code",
   "execution_count": null,
   "metadata": {},
   "outputs": [],
   "source": []
  }
 ],
 "metadata": {
  "kernelspec": {
   "display_name": "Python 3",
   "language": "python",
   "name": "python3"
  },
  "language_info": {
   "codemirror_mode": {
    "name": "ipython",
    "version": 3
   },
   "file_extension": ".py",
   "mimetype": "text/x-python",
   "name": "python",
   "nbconvert_exporter": "python",
   "pygments_lexer": "ipython3",
   "version": "3.7.3"
  }
 },
 "nbformat": 4,
 "nbformat_minor": 2
}
