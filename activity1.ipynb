{
 "cells": [
  {
   "cell_type": "code",
   "execution_count": 4,
   "metadata": {},
   "outputs": [
    {
     "name": "stdout",
     "output_type": "stream",
     "text": [
      "We need the ages of the 3 students\n",
      "12\n",
      "13\n",
      "114\n",
      "The sample mean of the ages of the students is: 46.333333333333336\n"
     ]
    }
   ],
   "source": [
    "print(\"We need the ages of the 3 students\");\n",
    "student1=float (input(\"\"));\n",
    "student2=float(input(\"\"));\n",
    "student3=float (input(\"\"));\n",
    "samplemean= (student1+student2+student3)/3\n",
    "print(f\"The sample mean of the ages of the students is: {samplemean}\");"
   ]
  },
  {
   "cell_type": "code",
   "execution_count": null,
   "metadata": {},
   "outputs": [],
   "source": []
  },
  {
   "cell_type": "code",
   "execution_count": null,
   "metadata": {},
   "outputs": [],
   "source": []
  }
 ],
 "metadata": {
  "kernelspec": {
   "display_name": "Python 3",
   "language": "python",
   "name": "python3"
  },
  "language_info": {
   "codemirror_mode": {
    "name": "ipython",
    "version": 3
   },
   "file_extension": ".py",
   "mimetype": "text/x-python",
   "name": "python",
   "nbconvert_exporter": "python",
   "pygments_lexer": "ipython3",
   "version": "3.7.3"
  }
 },
 "nbformat": 4,
 "nbformat_minor": 2
}
