{
 "cells": [
  {
   "cell_type": "code",
   "execution_count": 5,
   "metadata": {},
   "outputs": [
    {
     "name": "stdout",
     "output_type": "stream",
     "text": [
      "Exercise 5: More Variables and Printing In this lection, we will see how to use the format string, every time we need (double-quotes)\n",
      "in the field, it is used the string\n",
      " A string is how you make something that your program might give to a human\n"
     ]
    }
   ],
   "source": [
    "print(\"Exercise 5: More Variables and Printing\",\"In this lection, we will see how to use the format string, every time we need (double-quotes).\")\n",
    "print(\"in the field, it is used the string.\")\n",
    "print(\" A string is how you make something that your program might give to a human.\")"
   ]
  },
  {
   "cell_type": "code",
   "execution_count": 2,
   "metadata": {},
   "outputs": [
    {
     "name": "stdout",
     "output_type": "stream",
     "text": [
      "Let's talk about Juan.\n",
      "He's 166 cm tall.\n",
      "He's 69 pounds heavy.\n",
      "Actually that's not too heavy.\n",
      "He's got Brown eyes and Black hair.\n",
      "His teeth are usually White depending on the coffee.\n",
      "If I add 21, 166, and 69 I get 256.\n"
     ]
    }
   ],
   "source": [
    " my_name = 'Juan'\n",
    " my_age = 21 \n",
    " my_height = 166 # cm\n",
    " my_weight = 69 # kg\n",
    " my_eyes = 'Brown'\n",
    " my_teeth = 'White'\n",
    " my_hair = 'Black'\n",
    "\n",
    " print(f\"Let's talk about {my_name}.\")\n",
    " print(f\"He's {my_height} cm tall.\")\n",
    " print(f\"He's {my_weight} pounds heavy.\")\n",
    " print(\"Actually that's not too heavy.\")\n",
    " print(f\"He's got {my_eyes} eyes and {my_hair} hair.\")\n",
    " print(f\"His teeth are usually {my_teeth} depending on the coffee.\")\n",
    "\n",
    " # this line is tricky, try to get it exactly right\n",
    " total = my_age + my_height + my_weight\n",
    " print(f\"If I add {my_age}, {my_height}, and {my_weight} I get {total}.\")"
   ]
  },
  {
   "cell_type": "code",
   "execution_count": 18,
   "metadata": {},
   "outputs": [
    {
     "name": "stdout",
     "output_type": "stream",
     "text": [
      "Exercise 6: Strings and Text\n",
      "In this lection is  important the acquired knowledge of the importance of the variables and text, difference between them and basically, make algebraic algorithms to express with value the identities.\n"
     ]
    }
   ],
   "source": [
    "print(\"Exercise 6: Strings and Text\")\n",
    "print(\"In this lection is  important the acquired knowledge of the importance of the variables and text, difference between them and basically, make algebraic algorithms to express with value the identities.\")"
   ]
  },
  {
   "cell_type": "code",
   "execution_count": 24,
   "metadata": {},
   "outputs": [
    {
     "name": "stdout",
     "output_type": "stream",
     "text": [
      "There are 10 in my chorus.\n",
      "Those who play instruments and those who singvoices.\n",
      "I said: There are 10 in my chorus.\n",
      "I also said: 'Those who play instruments and those who singvoices.'\n",
      "Isn't that joke so funny?! False\n",
      "if you mix both kind of musician...you will have excelent chorus.\n"
     ]
    }
   ],
   "source": [
    " chorists_church = 10\n",
    " t = f\"There are {chorists_church} in my chorus.\"\n",
    "\n",
    " instruments = \"instruments\"\n",
    " voices = \"voices\"\n",
    " g = f\"Those who play {instruments} and those who sing{voices}.\"\n",
    "\n",
    " print(t)\n",
    " print(g)\n",
    "\n",
    " print(f\"I said: {t}\")\n",
    " print(f\"I also said: '{g}'\")\n",
    "\n",
    " hilarious = False\n",
    "\n",
    " joke_evaluation = \"Isn't that joke so funny?! {}\"\n",
    "\n",
    " print(joke_evaluation.format(hilarious))\n",
    "\n",
    " w = \"if you mix both kind of musician...\"\n",
    " e = \"you will have excelent chorus.\"\n",
    "\n",
    " print(w + e)"
   ]
  },
  {
   "cell_type": "code",
   "execution_count": 17,
   "metadata": {},
   "outputs": [
    {
     "name": "stdout",
     "output_type": "stream",
     "text": [
      "Exercise 7: More Printing\n",
      "In this lection we learn how about  you can print letter by letter a word and the result is all letters together and multiplication in serie of points\n"
     ]
    }
   ],
   "source": [
    "print(\"Exercise 7: More Printing\")\n",
    "print(\"In this lection we learn how about  you can print letter by letter a word and the result is all letters together and multiplication in serie of points\")\n"
   ]
  },
  {
   "cell_type": "code",
   "execution_count": 16,
   "metadata": {},
   "outputs": [
    {
     "name": "stdout",
     "output_type": "stream",
     "text": [
      "i have hungry\n",
      "I must buy something italian.\n",
      "I want to go to Peter Piper Pizza.\n",
      ".................\n",
      "choriz pizzas\n"
     ]
    }
   ],
   "source": [
    " print(\"i have hungry\")\n",
    " print(\"I must buy something {}.\".format('italian'))\n",
    " print(\"I want to go to Peter Piper Pizza.\")\n",
    " print(\".\" * 17) # what'd that do?\n",
    "\n",
    " end1 = \"c\"\n",
    " end2 = \"h\"\n",
    " end3 = \"o\"\n",
    " end4 = \"r\"\n",
    " end5 = \"i\"\n",
    " end6 = \"z\"\n",
    " end7 = \"p\"\n",
    " end8 = \"i\"\n",
    " end9 = \"z\"\n",
    " end10 = \"z\"\n",
    " end11 = \"a\"\n",
    " end12 = \"s\"\n",
    "\n",
    " # watch that comma at the end. try removing it to see what happens\n",
    " print(end1 + end2 + end3 + end4 + end5 + end6, end=' ')\n",
    "print(end7 + end8 + end9 + end10 + end11 + end12)"
   ]
  }
 ],
 "metadata": {
  "kernelspec": {
   "display_name": "Python 3",
   "language": "python",
   "name": "python3"
  },
  "language_info": {
   "codemirror_mode": {
    "name": "ipython",
    "version": 3
   },
   "file_extension": ".py",
   "mimetype": "text/x-python",
   "name": "python",
   "nbconvert_exporter": "python",
   "pygments_lexer": "ipython3",
   "version": "3.7.3"
  }
 },
 "nbformat": 4,
 "nbformat_minor": 2
}
