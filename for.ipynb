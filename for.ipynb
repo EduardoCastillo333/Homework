{
 "cells": [
  {
   "cell_type": "markdown",
   "metadata": {},
   "source": [
    "# Asking for a name from an array(Using for loop)\n"
   ]
  },
  {
   "cell_type": "markdown",
   "metadata": {},
   "source": [
    "It´s necesary to declarate the variable, and it will be the maximum valua of the range of the first loop.\n",
    "and the times that it will be printed, they will be the times that we declarate in the code"
   ]
  },
  {
   "cell_type": "code",
   "execution_count": 4,
   "metadata": {},
   "outputs": [
    {
     "name": "stdout",
     "output_type": "stream",
     "text": [
      "How many people do you want to introduce3\n",
      "Introduce the name of the people pleaseeduardo\n",
      "Introduce the name of the people pleasealicia\n",
      "Introduce the name of the people pleaseakisha\n",
      "Which name do you want to obtain?2\n",
      "The name 2 in akisha\n"
     ]
    }
   ],
   "source": [
    "\n",
    "students= int(input(\"How many people do you want to introduce\"))\n",
    "names = []\n",
    "\n",
    "for i in range(0,students):\n",
    "    e= input(\"Introduce the name of the people please\")\n",
    "    names.append(e)\n",
    "    \n",
    "c = int(input(\"Which name do you want to obtain?\"))\n",
    "print(f\"The name {c} in {names[c]}\")"
   ]
  },
  {
   "cell_type": "code",
   "execution_count": null,
   "metadata": {},
   "outputs": [],
   "source": []
  }
 ],
 "metadata": {
  "kernelspec": {
   "display_name": "Python 3",
   "language": "python",
   "name": "python3"
  },
  "language_info": {
   "codemirror_mode": {
    "name": "ipython",
    "version": 3
   },
   "file_extension": ".py",
   "mimetype": "text/x-python",
   "name": "python",
   "nbconvert_exporter": "python",
   "pygments_lexer": "ipython3",
   "version": "3.7.3"
  }
 },
 "nbformat": 4,
 "nbformat_minor": 2
}
