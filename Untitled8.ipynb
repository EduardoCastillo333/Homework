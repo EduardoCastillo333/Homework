{
 "cells": [
  {
   "cell_type": "code",
   "execution_count": 17,
   "metadata": {},
   "outputs": [
    {
     "name": "stdout",
     "output_type": "stream",
     "text": [
      "How many people do you want to introduce3\n",
      "Introduce the name of the people pleaseedu\n",
      "Introduce the name of the people pleaseali\n",
      "Introduce the name of the people pleaseakisha\n",
      "Which name do you want to obtain?2\n",
      "The name 2 in akisha\n"
     ]
    }
   ],
   "source": [
    "persons= int(input(\"How many persons do you want to introduce\"))\n",
    "names = []\n",
    "\n",
    "for i in range(0,people):\n",
    "    e= input(\"Introduce the name of the people please\")\n",
    "    names.append(x)\n",
    "    \n",
    "c = int(input(\"Which name do you want to obtain?\"))\n",
    "print(f\"The name {c} in {names[c]}\")"
   ]
  },
  {
   "cell_type": "markdown",
   "metadata": {},
   "source": [
    "### "
   ]
  },
  {
   "cell_type": "code",
   "execution_count": null,
   "metadata": {},
   "outputs": [],
   "source": []
  }
 ],
 "metadata": {
  "kernelspec": {
   "display_name": "Python 3",
   "language": "python",
   "name": "python3"
  },
  "language_info": {
   "codemirror_mode": {
    "name": "ipython",
    "version": 3
   },
   "file_extension": ".py",
   "mimetype": "text/x-python",
   "name": "python",
   "nbconvert_exporter": "python",
   "pygments_lexer": "ipython3",
   "version": "3.7.3"
  }
 },
 "nbformat": 4,
 "nbformat_minor": 2
}
