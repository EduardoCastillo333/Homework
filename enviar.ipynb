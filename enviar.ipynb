{
 "cells": [
  {
   "cell_type": "markdown",
   "metadata": {},
   "source": [
    "This exercise is about chain codes, that is, a method to tell Python that according to a variable that we declare at the beginning"
   ]
  },
  {
   "cell_type": "markdown",
   "metadata": {},
   "source": [
    " ##Python Excercises"
   ]
  },
  {
   "cell_type": "markdown",
   "metadata": {},
   "source": [
    "#Excercise 8 Printing, Printing"
   ]
  },
  {
   "cell_type": "markdown",
   "metadata": {},
   "source": [
    "the following type of declaration is used"
   ]
  },
  {
   "cell_type": "code",
   "execution_count": null,
   "metadata": {},
   "outputs": [],
   "source": [
    "formatter.format (...) "
   ]
  },
  {
   "cell_type": "markdown",
   "metadata": {},
   "source": [
    "An example of the book on how the declaration for python is carried out"
   ]
  },
  {
   "cell_type": "code",
   "execution_count": null,
   "metadata": {},
   "outputs": [],
   "source": [
    "str.format \n",
    "1 formatter = \"{} {} {} {}\"\n",
    "2 \n",
    "3 print(formatter.format(1, 2, 3, 4)) \n",
    "4 print(formatter.format(\"one\", \"two\", \"three\", \"four\")) \n",
    "5 print(formatter.format(True, False, False, True)) \n",
    "6 print(formatter.format(formatter, formatter, formatter, formatter)) \n",
    "7 print(formatter.format( \n",
    "    8 \"Try your\", \n",
    "    9 \"Own text here\", \n",
    "    10 \"Maybe a poem\", \n",
    "    11 \"Or a song about fear\" \n",
    "    12 ))"
   ]
  },
  {
   "cell_type": "markdown",
   "metadata": {},
   "source": [
    "Ejemplo de acuerdo a lo anterior"
   ]
  },
  {
   "cell_type": "code",
   "execution_count": null,
   "metadata": {},
   "outputs": [],
   "source": [
    "Formatter.format = \"{} {} {} {}\"\n",
    "\n",
    "print(formatter.format(23,24,25,26))"
   ]
  },
  {
   "cell_type": "markdown",
   "metadata": {},
   "source": [
    "#Ejercicio 9  Printing, Printing, Printing"
   ]
  },
  {
   "cell_type": "markdown",
   "metadata": {},
   "source": [
    "This exercise is about learning to organize a series of data as a list as in the following example"
   ]
  },
  {
   "cell_type": "code",
   "execution_count": null,
   "metadata": {},
   "outputs": [],
   "source": [
    "$ python3.6 ex9.py\n",
    "Here are the days: Mon Tue Wed Thu Fri Sat Sun \n",
    "    Here are the months: Jan \n",
    "        Feb \n",
    "        Mar \n",
    "        Apr \n",
    "        May \n",
    "        Jun \n",
    "        Jul \n",
    "        Aug"
   ]
  },
  {
   "cell_type": "markdown",
   "metadata": {},
   "source": [
    "to make a list it is necessary to do the following"
   ]
  },
  {
   "cell_type": "code",
   "execution_count": null,
   "metadata": {},
   "outputs": [],
   "source": [
    "1 # Here's some new strange stuff, remember type it exactly.\n",
    "2 \n",
    "3 days = \"Mon Tue Wed Thu Fri Sat Sun\"\n",
    "4 months = \"Jan\\nFeb\\nMar\\nApr\\nMay\\nJun\\nJul\\nAug\"\n",
    "5 \n",
    "6 print(\"Here are the days: \", days) \n",
    "7 print(\"Here are the months: \", months)\n",
    "8 \n",
    "9 print(\"\"\"\n",
    "10 There's something going on here.\n",
    "11 With the three double-quotes.\n",
    "12 We'll be able to type as much as we like.\n",
    "13 Even 4 lines if we want, or 5, or 6.\n",
    "14 \"\"\")"
   ]
  },
  {
   "cell_type": "code",
   "execution_count": null,
   "metadata": {},
   "outputs": [],
   "source": []
  },
  {
   "cell_type": "markdown",
   "metadata": {},
   "source": [
    "Exercise  10"
   ]
  },
  {
   "cell_type": "markdown",
   "metadata": {},
   "source": [
    "Here we saw about the escape sequences as the diagonal bars have been \\ These are useful not to confuse Python when using single quotes `` or double quotes '' in a programming line"
   ]
  },
  {
   "cell_type": "markdown",
   "metadata": {},
   "source": [
    "”I am 6’2\\” tall .” # escape double−quote inside string \n",
    "’ I am 6\\’2” tall . ’ # escape single−quote inside string"
   ]
  },
  {
   "cell_type": "code",
   "execution_count": null,
   "metadata": {},
   "outputs": [],
   "source": [
    "another way to do it is using triple quotes like \"\"\""
   ]
  },
  {
   "cell_type": "markdown",
   "metadata": {},
   "source": [
    "the code is"
   ]
  },
  {
   "cell_type": "code",
   "execution_count": null,
   "metadata": {},
   "outputs": [],
   "source": [
    "1 tabby_cat = \"\\tI'm tabbed in.\" \n",
    "2 persian_cat = \"I'm split\\non a line.\"\n",
    "3 backslash_cat = \"I'm \\\\ a \\\\ cat.\"\n",
    "4 \n",
    "5 fat_cat = \"\"\" \n",
    "6 I'll do a list: \n",
    "7 \\t* Cat food \n",
    "8 \\t* Fishies \n",
    "9 \\t* Catnip\\n\\t* Grass\n",
    "10 \"\"\"\n",
    "11\n",
    "12 print(tabby_cat)\n",
    "13 print(persian_cat) \n",
    "14 print(backslash_cat)\n",
    "15 print(fat_cat)"
   ]
  },
  {
   "cell_type": "markdown",
   "metadata": {},
   "source": [
    "what we should see is the following"
   ]
  },
  {
   "cell_type": "markdown",
   "metadata": {},
   "source": [
    "$ python ex10.py  \n",
    "I ’m tabbed in . \n",
    "I ’m split \n",
    "on a line . \n",
    "I ’m \\ a \\ cat .\n",
    "I ’ ll do a list : \n",
    "    * Cat food \n",
    "    * Fishies \n",
    "    * Catnip \n",
    "    * Grass\n"
   ]
  },
  {
   "cell_type": "markdown",
   "metadata": {},
   "source": [
    "Finally, he showed us the large number of escape sequences that exist depending on the programming language used"
   ]
  },
  {
   "cell_type": "code",
   "execution_count": null,
   "metadata": {},
   "outputs": [],
   "source": [
    "Escape sequences\n",
    "\n",
    "Escape      What it does. \n",
    "\\\\           Backslash (\\) \n",
    "\\'           Single-quote (’) \n",
    "\\\"           Double-quote (”)\n",
    "\\a           ASCII bell (BEL) \n",
    "\\b           ASCII backspace (BS) \n",
    "\\f           ASCII formfeed (FF) \n",
    "\\n           ASCII linefeed (LF) \n",
    "\\N{name}     Character named name in the Unicode database (Unicode only) \n",
    "\\r           Carriage Return (CR) \n",
    "\\t           Horizontal Tab (TAB) \n",
    "\\uxxxx       Character with 16-bit hex value xxxx \n",
    "\\Uxxxxxxxx   Character with 32-bit hex value xxxxxxxx \n",
    "\\v           ASCII vertical tab (VT) \n",
    "\\ooo         Character with octal value ooo \n",
    "\\xhh         Character with hex value hh"
   ]
  }
 ],
 "metadata": {
  "kernelspec": {
   "display_name": "Python 3",
   "language": "python",
   "name": "python3"
  },
  "language_info": {
   "codemirror_mode": {
    "name": "ipython",
    "version": 3
   },
   "file_extension": ".py",
   "mimetype": "text/x-python",
   "name": "python",
   "nbconvert_exporter": "python",
   "pygments_lexer": "ipython3",
   "version": "3.7.3"
  }
 },
 "nbformat": 4,
 "nbformat_minor": 2
}
