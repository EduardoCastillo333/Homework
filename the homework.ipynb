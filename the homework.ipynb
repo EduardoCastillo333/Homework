{
 "cells": [
  {
   "cell_type": "markdown",
   "metadata": {},
   "source": [
    "# Universidad Tecnologica de Altamira\n",
    "## Activity 1: A good first programm\n"
   ]
  },
  {
   "cell_type": "code",
   "execution_count": 29,
   "metadata": {},
   "outputs": [
    {
     "name": "stdout",
     "output_type": "stream",
     "text": [
      "The works of Python the best will ending their files  with this .py\n",
      "For example this one;\n",
      "ex1.py\n",
      "This is the first line\n",
      "Hi handsome\n",
      "I love Python.\n",
      "This is so cool.\n",
      "I´m the best\n",
      "I'd love some candies\n",
      "Would you like a candy for only oen peso?.\n"
     ]
    }
   ],
   "source": [
    "print(\"The works of Python the best will ending their files  with this .py\")\n",
    "print(\"For example this one;\")\n",
    "print(\"ex1.py\")\n",
    "print(\"This is the first line\")\n",
    "print(\"Hi handsome\")\n",
    "print(\"I love Python.\")\n",
    "print(\"This is so cool.\")\n",
    "print('I´m the best')\n",
    "print(\"I'd love some candies\")\n",
    "print('Would you like a candy for only oen peso?.')\n",
    "\n"
   ]
  },
  {
   "cell_type": "markdown",
   "metadata": {},
   "source": [
    "We can put the text with out a print, for example this one, and the last are examples with print\n",
    "And you will see this form the code, the result will be with out the word print\n"
   ]
  },
  {
   "cell_type": "markdown",
   "metadata": {},
   "source": [
    "In each line there are numbers, for talk about one specific line of code, when we are creating some code or command"
   ]
  },
  {
   "cell_type": "code",
   "execution_count": 5,
   "metadata": {},
   "outputs": [
    {
     "name": "stdout",
     "output_type": "stream",
     "text": [
      "If you have an error it will look like this:\n",
      "$ python3 . 6 python / ex1 . py\n",
      "F i l e ”python / ex1 . py ” , li n e 3\n",
      "p rin t (” I l i k e typing t h i s .\n",
      "^\n",
      "S yn ta xE r ro r : EOL while scanning s t ri n g l i t e r a l\n"
     ]
    }
   ],
   "source": [
    "print(\"If you have an error it will look like this:\")\n",
    "print(\"$ python3 . 6 python / ex1 . py\")\n",
    "print(\"F i l e ”python / ex1 . py ” , li n e 3\")\n",
    "print(\"p rin t (” I l i k e typing t h i s .\")\n",
    "print(\"^\")\n",
    "print(\"S yn ta xE r ro r : EOL while scanning s t ri n g l i t e r a l\")"
   ]
  },
  {
   "cell_type": "markdown",
   "metadata": {},
   "source": [
    "## Exercise 2 Comments and Pound Characters\n"
   ]
  },
  {
   "cell_type": "markdown",
   "metadata": {},
   "source": [
    "The comments are very important to explain your code, how this is used, and what is the function of that code"
   ]
  },
  {
   "cell_type": "code",
   "execution_count": 7,
   "metadata": {},
   "outputs": [
    {
     "name": "stdout",
     "output_type": "stream",
     "text": [
      "Don´t worry for the comments, they don´t affect this code\n"
     ]
    }
   ],
   "source": [
    "# This comment, is the first example of the comments of this exercise\n",
    "# When we put any #, Python doesn´t pay attention for this words\n",
    "print(\"Don´t worry for the comments, they don´t affect this code\")\n",
    "# And the comment can disable or comment out of the  code"
   ]
  },
  {
   "cell_type": "markdown",
   "metadata": {},
   "source": [
    "## Exercise 3 Numbers and Math\n"
   ]
  },
  {
   "cell_type": "code",
   "execution_count": null,
   "metadata": {},
   "outputs": [],
   "source": [
    "There are some symbols  of math,operations, we don´t need be a genius of math to do some addition or sustractions, or any operation of math"
   ]
  },
  {
   "cell_type": "code",
   "execution_count": 17,
   "metadata": {},
   "outputs": [
    {
     "name": "stdout",
     "output_type": "stream",
     "text": [
      "we wolud count our money\n",
      "how many pesos do I have 10\n",
      "I have some banknotes of 20 pesos and 100 pesos 2100\n",
      "I´ll count my gold coins\n",
      "1079\n",
      "Is tru that 10 is more than 9\n",
      "False\n",
      "Whats is 8/9 0.8888888888888888\n",
      "So there are some example abaout of greater and less\n",
      "True\n",
      "True\n"
     ]
    }
   ],
   "source": [
    "# For example we can do an addition:\n",
    "print(\"we wolud count our money\")\n",
    "print(\"how many pesos do I have\", 3 + 7)\n",
    "print(\"I have some banknotes of 20 pesos and 100 pesos\", 20 * 100 +100 )\n",
    "print(\"I´ll count my gold coins\" )\n",
    "print(-1 %3 + 1077)\n",
    "print(\"Is tru that 10 is more than 9\")\n",
    "print(3 / 6>10)\n",
    "print(\"Whats is 8/9\", 8/9)\n",
    "print(\"So there are some example abaout of greater and less\")\n",
    "print(7>3)\n",
    "print(2<5)\n"
   ]
  },
  {
   "cell_type": "markdown",
   "metadata": {},
   "source": [
    "# Exercise 4 Variables and Names\n"
   ]
  },
  {
   "cell_type": "markdown",
   "metadata": {},
   "source": [
    "when we talk about variables, we can assign a value to some variable (which can be a name of something), and we can assign some text or keyword to a variable, and we can use them again in a future line of code"
   ]
  },
  {
   "cell_type": "code",
   "execution_count": 27,
   "metadata": {},
   "outputs": [
    {
     "name": "stdout",
     "output_type": "stream",
     "text": [
      "I had only 100 of candy worms\n",
      "I had only this of 70  candy sharks\n",
      "I sold these amoutn  230 of candies\n",
      "I have in this moment 130 of gummies\n",
      "I have all the pich candy\n"
     ]
    }
   ],
   "source": [
    "candy_worms=100\n",
    "candy_sharks=70\n",
    "candy_pich=170\n",
    "total_gummies_sold=230\n",
    "Total_in_the_bag=total_gummies_sold  -candy_worms\n",
    "print(\"I had only\", candy_worms,\"of candy worms\")\n",
    "print(\"I had only this of\",candy_sharks,\" candy sharks\")\n",
    "print(\"I sold these amoutn \",total_gummies_sold,\"of candies\")\n",
    "print(\"I have in this moment\",Total_in_the_bag,\"of gummies\")\n",
    "print(\"I have all the pich candy\")"
   ]
  },
  {
   "cell_type": "code",
   "execution_count": null,
   "metadata": {},
   "outputs": [],
   "source": []
  },
  {
   "cell_type": "code",
   "execution_count": null,
   "metadata": {},
   "outputs": [],
   "source": []
  }
 ],
 "metadata": {
  "kernelspec": {
   "display_name": "Python 3",
   "language": "python",
   "name": "python3"
  },
  "language_info": {
   "codemirror_mode": {
    "name": "ipython",
    "version": 3
   },
   "file_extension": ".py",
   "mimetype": "text/x-python",
   "name": "python",
   "nbconvert_exporter": "python",
   "pygments_lexer": "ipython3",
   "version": "3.7.3"
  }
 },
 "nbformat": 4,
 "nbformat_minor": 2
}
