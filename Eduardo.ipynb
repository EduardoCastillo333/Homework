{
 "cells": [
  {
   "cell_type": "code",
   "execution_count": 3,
   "metadata": {},
   "outputs": [
    {
     "name": "stdout",
     "output_type": "stream",
     "text": [
      "Cepeda Castillo Juan eduardo\n",
      "Álvares Pérez Javier Alejandro\n",
      "Escobedo Ramírez Juan Carlos de jesus\n"
     ]
    },
    {
     "name": "stdin",
     "output_type": "stream",
     "text": [
      "Introduce x1: 2\n",
      "Introduce y1: 1\n",
      "Introduce x2: 2\n",
      "Introduce y2: 3\n"
     ]
    },
    {
     "name": "stdout",
     "output_type": "stream",
     "text": [
      "\n",
      "Write 0 to stop process\n"
     ]
    },
    {
     "name": "stdin",
     "output_type": "stream",
     "text": [
      "Introduce x3: 0\n",
      "Chose the number of the operation that you want \n",
      " 1.Sample mean\n",
      " 2.Mode\n",
      " 3.Standard deviation\n",
      " 2\n"
     ]
    },
    {
     "name": "stdout",
     "output_type": "stream",
     "text": [
      "Mode:[1.0, 3.0]\n"
     ]
    }
   ],
   "source": [
    "print(\"Cepeda Castillo Juan eduardo\\nÁlvares Pérez Javier Alejandro\\nEscobedo Ramírez Juan Carlos de jesus\")\n",
    "c = 0\n",
    "n = 1\n",
    "datos=0\n",
    "listax = []\n",
    "listay = []\n",
    "todaY=0\n",
    "repetir=0\n",
    "for D in range(0,2):\n",
    "    x = float(input(f\"Introduce x{n}:\"))             \n",
    "    listax.append(x)\n",
    "    y = float(input(f\"Introduce y{n}:\"))               \n",
    "    listay.append(y)\n",
    "    todaY+=y\n",
    "    n+=1\n",
    "    datos+=1\n",
    "while c < 1:\n",
    "    print(\"\\nWrite 0 to stop process\")\n",
    "    x = float(input(f\"Introduce x{n}:\"))             \n",
    "    listax.append(x)\n",
    "    if x != 0:\n",
    "        y = float(input(f\"Introduce y{n}:\"))\n",
    "        listay.append(y)\n",
    "        todaY+=y\n",
    "        datos+=1\n",
    "        n+=1\n",
    "    else: c+=1\n",
    "Promedio=todaY/datos                                                                   \n",
    "\n",
    "for i in listay:                                                                           \n",
    "    aparece = listay.count(i)                                                             \n",
    "    if aparece > repetir:                                                       \n",
    "        repetir = aparece                                                       \n",
    "moda=[]                                                                              \n",
    "for i in listay:                                                                              \n",
    "    aparece = listay.count(i)                                                             \n",
    "    if aparece == repetir and i not in moda:                                   \n",
    "        moda.append(i)\n",
    "        \n",
    "z= [(listay[E]-Promedio)**2\n",
    "                   for E in range(len(listay))]\n",
    "totaly=sum(z)\n",
    "s2=totaly/(datos-1)\n",
    "s=s2**.5\n",
    "\n",
    "\n",
    "opcion=int (input(\"Chose the number of the operation that you want \\n 1.Sample mean\\n 2.Mode\\n 3.Standard deviation\\n\"))\n",
    "if opcion==1:\n",
    "    print(f\"Sample mean:{Promedio}\")\n",
    "elif opcion==2:\n",
    "    print(f\"Mode:{moda}\")\n",
    "else:\n",
    "    print(f\"Standard deviation:{s}\")\n",
    "        \n",
    "            "
   ]
  },
  {
   "cell_type": "code",
   "execution_count": null,
   "metadata": {},
   "outputs": [],
   "source": []
  }
 ],
 "metadata": {
  "kernelspec": {
   "display_name": "Python 3",
   "language": "python",
   "name": "python3"
  },
  "language_info": {
   "codemirror_mode": {
    "name": "ipython",
    "version": 3
   },
   "file_extension": ".py",
   "mimetype": "text/x-python",
   "name": "python",
   "nbconvert_exporter": "python",
   "pygments_lexer": "ipython3",
   "version": "3.7.3"
  }
 },
 "nbformat": 4,
 "nbformat_minor": 4
}
